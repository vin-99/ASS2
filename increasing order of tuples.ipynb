{
 "cells": [
  {
   "cell_type": "code",
   "execution_count": 47,
   "id": "a94d3f47",
   "metadata": {},
   "outputs": [
    {
     "name": "stdout",
     "output_type": "stream",
     "text": [
      "sample list is [(2, 5), (1, 2), (4, 4), (2, 3), (2, 1)]\n",
      "expected result is [(2, 1), (1, 2), (2, 3), (4, 4), (2, 5)]\n"
     ]
    }
   ],
   "source": [
    "dd = [(2, 5), (1, 2), (4, 4), (2, 3), (2, 1)]\n",
    "l1 = []\n",
    "\n",
    "l2 = []\n",
    "\n",
    "for i in dd:\n",
    "    l1.append(i[1])\n",
    "\n",
    "l1.sort()\n",
    "\n",
    "\n",
    "for x in l1:\n",
    "    for y in dd:\n",
    "        if x == y[1]:\n",
    "            l2.append(y)\n",
    "            \n",
    "#print(l2)\n",
    "print(\"sample list is\",dd)\n",
    "print(\"expected result is\", l2)\n",
    "        "
   ]
  },
  {
   "cell_type": "code",
   "execution_count": null,
   "id": "e913d794",
   "metadata": {},
   "outputs": [],
   "source": []
  }
 ],
 "metadata": {
  "kernelspec": {
   "display_name": "Python 3 (ipykernel)",
   "language": "python",
   "name": "python3"
  },
  "language_info": {
   "codemirror_mode": {
    "name": "ipython",
    "version": 3
   },
   "file_extension": ".py",
   "mimetype": "text/x-python",
   "name": "python",
   "nbconvert_exporter": "python",
   "pygments_lexer": "ipython3",
   "version": "3.10.1"
  }
 },
 "nbformat": 4,
 "nbformat_minor": 5
}
